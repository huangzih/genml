{
 "cells": [
  {
   "cell_type": "markdown",
   "id": "c832dd61",
   "metadata": {},
   "source": [
    "# Anomalous Diffusion Driven by Mittag-Leffler Correlated Noise\n",
    "\n",
    "GenML is a Python library designed for generating Mittag-Leffler correlated noise (abbreviated as M-L noise), which is widely used in modeling complex physical systems. This notebook shows an application of GenML, illustrating the simulation of anomalous diffusion driven by M-L noise, along with the calculation of corresponding mean squared displacement (MSD).<br><br>\n",
    "First, get started by having all the necessary tools and libraries imported."
   ]
  },
  {
   "cell_type": "code",
   "execution_count": 1,
   "id": "675973e6",
   "metadata": {},
   "outputs": [],
   "source": [
    "import genml\n",
    "from genml.mittag_leffler import ml\n",
    "\n",
    "import numpy as np\n",
    "from tqdm.notebook import tqdm\n",
    "from matplotlib import pyplot as plt"
   ]
  },
  {
   "cell_type": "markdown",
   "id": "cb1dcdec",
   "metadata": {},
   "source": [
    "## Parameters\n",
    "\n",
    "Before diving into the diffusion generation, it's essential to set up some fundamental parameters that define the properties of the noise we intend to generate, such as the number of sequences, length of each sequence, amplitude coefficient, and others.\n"
   ]
  },
  {
   "cell_type": "code",
   "execution_count": 2,
   "id": "b42cb663",
   "metadata": {},
   "outputs": [],
   "source": [
    "# Parameters\n",
    "N = 2000  # Number of sequences\n",
    "T = 50000  # Length of each sequence\n",
    "C = 1.0  # Amplitude coefficient\n",
    "lamda = 1.8  # Mittag-Leffler exponent\n",
    "tau = 10  # Characteristic memory time\n",
    "seed = None # Random seed"
   ]
  },
  {
   "cell_type": "markdown",
   "id": "3c5f73ae",
   "metadata": {},
   "source": [
    "## Simulating the Anomalous Diffusion Driven by M-L Noise\n",
    "\n",
    "This section demonstrates the simulation of anomalous diffusion driven by M-L noise, which can be described by the Langevin equation:\n",
    "\n",
    "$$\\frac{{\\rm d}x(t)}{{\\rm d}t} = \\xi (t)$$\n",
    "\n",
    "We utilize the `mln` API from the GenML library to generate M-L noise sequences. Subsequently, by superimposing the noise sequences along the time dimension, we can obtain the diffusion trajectory $x(t)$ driven by the M-L noise."
   ]
  },
  {
   "cell_type": "code",
   "execution_count": 3,
   "id": "997a3107",
   "metadata": {},
   "outputs": [
    {
     "name": "stdout",
     "output_type": "stream",
     "text": [
      "M-L Noise Generation Time:  17.48363757133484 s\n"
     ]
    }
   ],
   "source": [
    "# Generate M-L noise sequences\n",
    "xi = genml.mln(N, T, C, lamda, tau, seed)"
   ]
  },
  {
   "cell_type": "code",
   "execution_count": 4,
   "id": "2175b2da",
   "metadata": {},
   "outputs": [],
   "source": [
    "# Accumulate M-L noise to generate anomalous diffusion\n",
    "x = np.hstack([np.zeros((xi.shape[0], 1)), np.cumsum(xi, axis=1)])\n",
    "x = np.array(x)"
   ]
  },
  {
   "cell_type": "markdown",
   "id": "4f28e427",
   "metadata": {},
   "source": [
    "## Calculation of the Mean Squared Displacement \n",
    "\n",
    "MSDs are crucial for understanding the properties of anomalous diffusion. Here we calculate both the actual MSD values from the generated trajectories and the theoretical MSD values."
   ]
  },
  {
   "cell_type": "code",
   "execution_count": 5,
   "id": "10667e7a",
   "metadata": {},
   "outputs": [],
   "source": [
    "compute_list = [i for i in range(1, 10)] + [2 * i for i in range(5, 50)] + \\\n",
    "        [10 * i for i in range(10, 100)] + [50 * i for i in range(20, 200)]\n",
    "compute_list = np.array(compute_list)"
   ]
  },
  {
   "cell_type": "markdown",
   "id": "4e8e8fe5",
   "metadata": {},
   "source": [
    "- When calculating the actual MSD values, we employ the following equation:\n",
    "\n",
    "$$ \\text{MSD}(t) = \\langle |x(t) - x(0)|^2 \\rangle $$\n",
    "\n",
    "where $ \\langle \\cdot \\rangle $ denotes the ensemble average.\n",
    "\n",
    "- For computing the theoretical MSD values, we use the formula:\n",
    "\n",
    "$$ \\text{MSD}(t) = 2 \\int_{0}^{t} (t - s) C(s) \\, {\\rm d}s $$\n",
    "\n",
    "Here, $C(s)$ represents the autocorrelation function of M-L noise. Numerical values of the theoretical MSD are obtained through a numerical integration using the composite trapezoidal rule."
   ]
  },
  {
   "cell_type": "code",
   "execution_count": 6,
   "id": "f5868286",
   "metadata": {},
   "outputs": [
    {
     "data": {
      "application/vnd.jupyter.widget-view+json": {
       "model_id": "242c252661184da8a218838e77736e01",
       "version_major": 2,
       "version_minor": 0
      },
      "text/plain": [
       "  0%|          | 0/324 [00:00<?, ?it/s]"
      ]
     },
     "metadata": {},
     "output_type": "display_data"
    }
   ],
   "source": [
    "# Calculate actual MSD values\n",
    "msd_cal = []\n",
    "for i in tqdm(compute_list):\n",
    "    sd = np.sum((x[:, :-i] - x[:, i:]) ** 2, axis=1) / (T - i)\n",
    "    msd_cal.append(sd.mean())"
   ]
  },
  {
   "cell_type": "code",
   "execution_count": 7,
   "id": "2176f2c7",
   "metadata": {},
   "outputs": [],
   "source": [
    "# Function to calculate the autocorrelation values\n",
    "def CC(s):\n",
    "    return C * ml(-(abs(s) / tau) ** lamda, alpha=lamda) / (tau ** lamda)\n",
    "\n",
    "# Function defining the integrand for MSD\n",
    "def integrand(s, t):\n",
    "    return (t - s) * CC(s)\n",
    "\n",
    "# Function to perform composite trapezoidal integration\n",
    "def integrate_trapezoidal(f, a, b, n):\n",
    "    h = (b - a) / n\n",
    "    result = 0.5 * (f(a) + f(b))\n",
    "    for i in range(1, n):\n",
    "        result += f(a + i * h)\n",
    "    result *= h\n",
    "    return result\n",
    "\n",
    "# Function to calculate the theoretical MSD\n",
    "def MSD(t):\n",
    "    integral_values = [integrate_trapezoidal(lambda s: integrand(s, ti), 0, ti, 5000) for ti in tqdm(t)]\n",
    "    return 2 * np.array(integral_values)"
   ]
  },
  {
   "cell_type": "code",
   "execution_count": 8,
   "id": "bb80db22",
   "metadata": {},
   "outputs": [
    {
     "data": {
      "application/vnd.jupyter.widget-view+json": {
       "model_id": "a063c32438ac440e9b61875b6ee3469a",
       "version_major": 2,
       "version_minor": 0
      },
      "text/plain": [
       "  0%|          | 0/324 [00:00<?, ?it/s]"
      ]
     },
     "metadata": {},
     "output_type": "display_data"
    }
   ],
   "source": [
    "msd_th = MSD(compute_list)"
   ]
  },
  {
   "cell_type": "markdown",
   "id": "0c541a6a",
   "metadata": {},
   "source": [
    "### Comparision of actual and theoretical MSDs"
   ]
  },
  {
   "cell_type": "code",
   "execution_count": 9,
   "id": "6989a3a4",
   "metadata": {},
   "outputs": [
    {
     "data": {
      "image/png": "[encoded data removed]",
      "text/plain": [
       "<Figure size 640x480 with 1 Axes>"
      ]
     },
     "metadata": {},
     "output_type": "display_data"
    }
   ],
   "source": [
    "plt.plot(compute_list, msd_cal, 'o', label='msd_cal', color='lightblue', markerfacecolor='none', markersize=12)\n",
    "plt.plot(compute_list, msd_th, label='msd_th', color='#53A8E1', linewidth=3.6)\n",
    "plt.title(f'MSD with N={N}, T={T}, C={C}, λ={lamda}, τ={tau}')\n",
    "plt.xscale('log')\n",
    "plt.yscale('log')\n",
    "plt.legend()\n",
    "plt.show()"
   ]
  },
  {
   "cell_type": "code",
   "execution_count": null,
   "id": "68319ae6",
   "metadata": {},
   "outputs": [],
   "source": []
  }
 ],
 "metadata": {
  "kernelspec": {
   "display_name": "Python 3 (ipykernel)",
   "language": "python",
   "name": "python3"
  },
  "language_info": {
   "codemirror_mode": {
    "name": "ipython",
    "version": 3
   },
   "file_extension": ".py",
   "mimetype": "text/x-python",
   "name": "python",
   "nbconvert_exporter": "python",
   "pygments_lexer": "ipython3",
   "version": "3.10.14"
  }
 },
 "nbformat": 4,
 "nbformat_minor": 5
}
